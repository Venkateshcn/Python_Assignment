{
  "nbformat": 4,
  "nbformat_minor": 0,
  "metadata": {
    "colab": {
      "provenance": [],
      "authorship_tag": "ABX9TyM/jsF3YxWfortZsEBaGIu1",
      "include_colab_link": true
    },
    "kernelspec": {
      "name": "python3",
      "display_name": "Python 3"
    },
    "language_info": {
      "name": "python"
    }
  },
  "cells": [
    {
      "cell_type": "markdown",
      "metadata": {
        "id": "view-in-github",
        "colab_type": "text"
      },
      "source": [
        "<a href=\"https://colab.research.google.com/github/Venkateshcn/Python_Assignment/blob/main/module2assgnmt3partA.ipynb\" target=\"_parent\"><img src=\"https://colab.research.google.com/assets/colab-badge.svg\" alt=\"Open In Colab\"/></a>"
      ]
    },
    {
      "cell_type": "code",
      "execution_count": 1,
      "metadata": {
        "colab": {
          "base_uri": "https://localhost:8080/"
        },
        "id": "9K1uynxzZUcx",
        "outputId": "89c01931-aafd-4f81-e144-0b518dd802e4"
      },
      "outputs": [
        {
          "output_type": "stream",
          "name": "stdout",
          "text": [
            "[1, 2, 3, 4, 5]\n"
          ]
        }
      ],
      "source": [
        "#Module2Assign3Solution for partA\n",
        "\n",
        "L=[1,1,1,1,2,2,3,3,3,3,4,5]\n",
        "\n",
        "unique_elements=[]\n",
        "\n",
        "for element in L:\n",
        "\n",
        "  if element not in unique_elements:\n",
        "\n",
        "    unique_elements.append(element)\n",
        "\n",
        "print(unique_elements)"
      ]
    },
    {
      "cell_type": "code",
      "source": [],
      "metadata": {
        "id": "gDS4CpNUc3xJ"
      },
      "execution_count": null,
      "outputs": []
    }
  ]
}