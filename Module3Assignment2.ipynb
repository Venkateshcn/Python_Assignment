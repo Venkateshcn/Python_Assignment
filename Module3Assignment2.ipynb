{
  "nbformat": 4,
  "nbformat_minor": 0,
  "metadata": {
    "colab": {
      "provenance": [],
      "authorship_tag": "ABX9TyNA3IYlQV1Kr9RvzS3awJOs",
      "include_colab_link": true
    },
    "kernelspec": {
      "name": "python3",
      "display_name": "Python 3"
    },
    "language_info": {
      "name": "python"
    }
  },
  "cells": [
    {
      "cell_type": "markdown",
      "metadata": {
        "id": "view-in-github",
        "colab_type": "text"
      },
      "source": [
        "<a href=\"https://colab.research.google.com/github/Venkateshcn/Python_Assignment/blob/main/Module3Assignment2.ipynb\" target=\"_parent\"><img src=\"https://colab.research.google.com/assets/colab-badge.svg\" alt=\"Open In Colab\"/></a>"
      ]
    },
    {
      "cell_type": "code",
      "execution_count": 1,
      "metadata": {
        "colab": {
          "base_uri": "https://localhost:8080/"
        },
        "id": "PIxDj-nMKjBM",
        "outputId": "9674524c-ccda-4f77-d803-68d913d48025"
      },
      "outputs": [
        {
          "output_type": "stream",
          "name": "stdout",
          "text": [
            "Enter a string: 1234abcd\n",
            "Reversed string:: dcba4321\n"
          ]
        }
      ],
      "source": [
        "#Assignment2\n",
        "def reverse_string(string):\n",
        "  reversed_string=string[::-1]\n",
        "  return reversed_string\n",
        "\n",
        "input_string=input(\"Enter a string: \")\n",
        "#input_String=\"1234abcd\"\n",
        "reversed_string=reverse_string(input_string)\n",
        "print(\"Reversed string::\",reversed_string)"
      ]
    }
  ]
}