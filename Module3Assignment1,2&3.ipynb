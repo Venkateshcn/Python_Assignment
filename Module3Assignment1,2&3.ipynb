{
  "nbformat": 4,
  "nbformat_minor": 0,
  "metadata": {
    "colab": {
      "provenance": [],
      "authorship_tag": "ABX9TyPN86hQMDYfvTY1tKdShDTW",
      "include_colab_link": true
    },
    "kernelspec": {
      "name": "python3",
      "display_name": "Python 3"
    },
    "language_info": {
      "name": "python"
    }
  },
  "cells": [
    {
      "cell_type": "markdown",
      "metadata": {
        "id": "view-in-github",
        "colab_type": "text"
      },
      "source": [
        "<a href=\"https://colab.research.google.com/github/Venkateshcn/Python_Assignment/blob/main/Module3Assignment1%2C2%263.ipynb\" target=\"_parent\"><img src=\"https://colab.research.google.com/assets/colab-badge.svg\" alt=\"Open In Colab\"/></a>"
      ]
    },
    {
      "cell_type": "code",
      "execution_count": null,
      "metadata": {
        "colab": {
          "base_uri": "https://localhost:8080/"
        },
        "id": "5d0T2sofSzPQ",
        "outputId": "1f9d2d6b-b1bd-465b-8401-d1908de62a22"
      },
      "outputs": [
        {
          "output_type": "stream",
          "name": "stdout",
          "text": [
            "20\n"
          ]
        }
      ],
      "source": [
        "def sum_list(numbers):\n",
        "  total=sum(numbers)\n",
        "  return total\n",
        "\n",
        "sample_list=[8,2,3,0,7]\n",
        "result=sum_list(sample_list)\n",
        "print(result)"
      ]
    },
    {
      "cell_type": "code",
      "source": [
        "#Assignment2\n",
        "def reverse_string(string):\n",
        "  reversed_string=string[::-1]\n",
        "  return reversed_string\n",
        "input_string=input(\"Enter a string: \")\n",
        "#input_String=\"1234abcd\"\n",
        "reversed_string=reverse_string(input_string)\n",
        "print(\"Reversed string::\",reversed_string)"
      ],
      "metadata": {
        "colab": {
          "base_uri": "https://localhost:8080/"
        },
        "id": "i1zntGIXc_y5",
        "outputId": "fbbc0a36-35b8-4482-b4c2-4961a5a8b0bb"
      },
      "execution_count": 1,
      "outputs": [
        {
          "output_type": "stream",
          "name": "stdout",
          "text": [
            "Enter a string: abcd1234\n",
            "Reversed string:: 4321dcba\n"
          ]
        }
      ]
    },
    {
      "cell_type": "code",
      "source": [
        "#Assignment3\n",
        "def count_upper_lower(string):\n",
        "  upper_count=0\n",
        "  lower_count=0\n",
        "  for char in string:\n",
        "    if char.isupper():\n",
        "      upper_count +=1\n",
        "    elif char.islower():\n",
        "      lower_count +=1\n",
        "  return upper_count,lower_count\n",
        "text=input(\"Enter string to check:: \")\n",
        "upper,lower=count_upper_lower(text)\n",
        "print(\"Uppercase count::\",upper)\n",
        "print(\"lowercase count::\",lower)"
      ],
      "metadata": {
        "colab": {
          "base_uri": "https://localhost:8080/"
        },
        "id": "juC0wdVELSgQ",
        "outputId": "c192f1ba-ca3b-41d4-9705-f1c955bda218"
      },
      "execution_count": 3,
      "outputs": [
        {
          "output_type": "stream",
          "name": "stdout",
          "text": [
            "Enter string to check:: The quick Brow Fox\n",
            "Uppercase count:: 3\n",
            "lowercase count:: 12\n"
          ]
        }
      ]
    }
  ]
}