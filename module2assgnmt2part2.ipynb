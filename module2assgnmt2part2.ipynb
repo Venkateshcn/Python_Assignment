{
  "nbformat": 4,
  "nbformat_minor": 0,
  "metadata": {
    "colab": {
      "provenance": [],
      "authorship_tag": "ABX9TyOAhtsfElsR3EpODYjihGEj",
      "include_colab_link": true
    },
    "kernelspec": {
      "name": "python3",
      "display_name": "Python 3"
    },
    "language_info": {
      "name": "python"
    }
  },
  "cells": [
    {
      "cell_type": "markdown",
      "metadata": {
        "id": "view-in-github",
        "colab_type": "text"
      },
      "source": [
        "<a href=\"https://colab.research.google.com/github/Venkateshcn/Python_Assignment/blob/main/module2assgnmt2part2.ipynb\" target=\"_parent\"><img src=\"https://colab.research.google.com/assets/colab-badge.svg\" alt=\"Open In Colab\"/></a>"
      ]
    },
    {
      "cell_type": "code",
      "execution_count": 1,
      "metadata": {
        "colab": {
          "base_uri": "https://localhost:8080/"
        },
        "id": "vxzoKH3kkEoy",
        "outputId": "8aacff63-5bba-4afe-844a-b44ca6a3b71d"
      },
      "outputs": [
        {
          "output_type": "stream",
          "name": "stdout",
          "text": [
            "[2.0, 4.5, 0.0]\n",
            "6.5\n"
          ]
        }
      ],
      "source": [
        "#Assignment2 Solution for question 2\n",
        "\n",
        "L = [[1,2,3],[ 4,5,6,3 ],[-1,-2,-10,5,8]]\n",
        "\n",
        "average_from_each_list=[]\n",
        "\n",
        "total_sum=0\n",
        "\n",
        "for e in L:\n",
        "\n",
        "  average=sum(e)/len(e)\n",
        "\n",
        "  average_from_each_list.append(average)\n",
        "\n",
        "  total_sum+=average\n",
        "\n",
        "print(average_from_each_list)\n",
        "\n",
        "print(total_sum)"
      ]
    }
  ]
}