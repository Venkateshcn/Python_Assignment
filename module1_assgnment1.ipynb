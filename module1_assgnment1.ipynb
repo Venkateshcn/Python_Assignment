{
  "nbformat": 4,
  "nbformat_minor": 0,
  "metadata": {
    "colab": {
      "provenance": [],
      "authorship_tag": "ABX9TyMspqcrWHyekwSYwYmyvt78",
      "include_colab_link": true
    },
    "kernelspec": {
      "name": "python3",
      "display_name": "Python 3"
    },
    "language_info": {
      "name": "python"
    }
  },
  "cells": [
    {
      "cell_type": "markdown",
      "metadata": {
        "id": "view-in-github",
        "colab_type": "text"
      },
      "source": [
        "<a href=\"https://colab.research.google.com/github/Venkateshcn/Python_Assignment/blob/main/module1_assgnment1.ipynb\" target=\"_parent\"><img src=\"https://colab.research.google.com/assets/colab-badge.svg\" alt=\"Open In Colab\"/></a>"
      ]
    },
    {
      "cell_type": "code",
      "execution_count": 1,
      "metadata": {
        "colab": {
          "base_uri": "https://localhost:8080/"
        },
        "id": "ghVMwchvITrV",
        "outputId": "6645f9e4-0724-4aea-cdf2-656291276a56"
      },
      "outputs": [
        {
          "output_type": "stream",
          "name": "stdout",
          "text": [
            "Enter a number:: 2\n",
            "Not a multiple 0f 3 and 5\n"
          ]
        }
      ],
      "source": [
        "#Asssignment 1\n",
        "num=int(input(\"Enter a number:: \"))\n",
        "if num%3==0 and num%5==0:\n",
        "    print(\"Fizz Buzz\")\n",
        "elif num%3==0:\n",
        "    print(\"Fizz\")\n",
        "elif num%5==0:\n",
        "    print(\"Buzz\")\n",
        "else:\n",
        "    print(\"Not a multiple 0f 3 and 5\")"
      ]
    }
  ]
}