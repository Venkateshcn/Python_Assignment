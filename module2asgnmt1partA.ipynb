{
  "nbformat": 4,
  "nbformat_minor": 0,
  "metadata": {
    "colab": {
      "provenance": [],
      "authorship_tag": "ABX9TyO1fQo99nr3I94T8sY7L5NK",
      "include_colab_link": true
    },
    "kernelspec": {
      "name": "python3",
      "display_name": "Python 3"
    },
    "language_info": {
      "name": "python"
    }
  },
  "cells": [
    {
      "cell_type": "markdown",
      "metadata": {
        "id": "view-in-github",
        "colab_type": "text"
      },
      "source": [
        "<a href=\"https://colab.research.google.com/github/Venkateshcn/Python_Assignment/blob/main/module2asgnmt1partA.ipynb\" target=\"_parent\"><img src=\"https://colab.research.google.com/assets/colab-badge.svg\" alt=\"Open In Colab\"/></a>"
      ]
    },
    {
      "cell_type": "code",
      "execution_count": 1,
      "metadata": {
        "colab": {
          "base_uri": "https://localhost:8080/"
        },
        "id": "IjV1fmXbT6oE",
        "outputId": "29f7bf3a-31eb-4f1a-9787-97f341fd6130"
      },
      "outputs": [
        {
          "output_type": "stream",
          "name": "stdout",
          "text": [
            "['phone.jpg', 'view.jpg', 'bear.jpg']\n"
          ]
        }
      ],
      "source": [
        "#Module2pgm1Solution 1\n",
        "\n",
        "filename=['view.jpg','bear.jpg','ball.png']\n",
        "\n",
        "filename.insert(0,'phone.jpg')\n",
        "\n",
        "filename.remove('ball.png')\n",
        "\n",
        "print(filename)"
      ]
    }
  ]
}