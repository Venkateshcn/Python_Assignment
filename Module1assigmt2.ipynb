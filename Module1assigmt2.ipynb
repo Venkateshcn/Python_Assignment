{
  "nbformat": 4,
  "nbformat_minor": 0,
  "metadata": {
    "colab": {
      "provenance": [],
      "authorship_tag": "ABX9TyM+3FT8Tks5OVbLjRzAWBq5",
      "include_colab_link": true
    },
    "kernelspec": {
      "name": "python3",
      "display_name": "Python 3"
    },
    "language_info": {
      "name": "python"
    }
  },
  "cells": [
    {
      "cell_type": "markdown",
      "metadata": {
        "id": "view-in-github",
        "colab_type": "text"
      },
      "source": [
        "<a href=\"https://colab.research.google.com/github/Venkateshcn/Python_Assignment/blob/main/Module1assigmt2.ipynb\" target=\"_parent\"><img src=\"https://colab.research.google.com/assets/colab-badge.svg\" alt=\"Open In Colab\"/></a>"
      ]
    },
    {
      "cell_type": "code",
      "execution_count": 3,
      "metadata": {
        "colab": {
          "base_uri": "https://localhost:8080/"
        },
        "id": "c6He3L3TOcVG",
        "outputId": "c633c754-dcb2-4642-e871-6847740600ff"
      },
      "outputs": [
        {
          "output_type": "stream",
          "name": "stdout",
          "text": [
            "Enter transaction log: D:100 W:200 D:400\n",
            "Total Remaining Balance::300\n"
          ]
        }
      ],
      "source": [
        "#Asssignment 2\n",
        "\n",
        "log_message=input(\"Enter transaction log: \")\n",
        "transactions=log_message.split()\n",
        "balance=0\n",
        "for transaction in transactions:\n",
        "    if transaction[0]=='D':\n",
        "        balance +=int(transaction[2:])\n",
        "    elif transaction[0]=='W':\n",
        "        balance -=int(transaction[2:])\n",
        "print(f\"Total Remaining Balance::{balance}\")"
      ]
    }
  ]
}