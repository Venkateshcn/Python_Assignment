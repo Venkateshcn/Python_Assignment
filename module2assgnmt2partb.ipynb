{
  "nbformat": 4,
  "nbformat_minor": 0,
  "metadata": {
    "colab": {
      "provenance": [],
      "authorship_tag": "ABX9TyMjSSKHuhsJYzhJGN0kFTQN",
      "include_colab_link": true
    },
    "kernelspec": {
      "name": "python3",
      "display_name": "Python 3"
    },
    "language_info": {
      "name": "python"
    }
  },
  "cells": [
    {
      "cell_type": "markdown",
      "metadata": {
        "id": "view-in-github",
        "colab_type": "text"
      },
      "source": [
        "<a href=\"https://colab.research.google.com/github/Venkateshcn/Python_Assignment/blob/main/module2assgnmt2partb.ipynb\" target=\"_parent\"><img src=\"https://colab.research.google.com/assets/colab-badge.svg\" alt=\"Open In Colab\"/></a>"
      ]
    },
    {
      "cell_type": "code",
      "execution_count": 4,
      "metadata": {
        "colab": {
          "base_uri": "https://localhost:8080/"
        },
        "id": "WVWSlQ2YaP4N",
        "outputId": "d0262a58-abf9-47c4-cb54-4ccadf6697f4"
      },
      "outputs": [
        {
          "output_type": "stream",
          "name": "stdout",
          "text": [
            "enter search number2\n",
            "Number 2 doesnt exist in inner list\n"
          ]
        }
      ],
      "source": [
        "#Module2Assign2 for partB\n",
        "\n",
        "L=[1,2,3,4,[4,3]]\n",
        "\n",
        "number=int(input(\"enter search number\"))\n",
        "\n",
        "for element in L:\n",
        "\n",
        "  if isinstance(element,list):\n",
        "\n",
        "    if number in element:\n",
        "\n",
        "      print(\"Number exists in inner list\")\n",
        "\n",
        "      break\n",
        "\n",
        "  else:\n",
        "\n",
        "    continue\n",
        "\n",
        "else:\n",
        "\n",
        "  print(f\"Number {number} doesnt exist in inner list\")"
      ]
    }
  ]
}