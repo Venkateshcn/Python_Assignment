{
  "nbformat": 4,
  "nbformat_minor": 0,
  "metadata": {
    "colab": {
      "provenance": [],
      "authorship_tag": "ABX9TyMyqFND2oymzeRNsUoR1B07",
      "include_colab_link": true
    },
    "kernelspec": {
      "name": "python3",
      "display_name": "Python 3"
    },
    "language_info": {
      "name": "python"
    }
  },
  "cells": [
    {
      "cell_type": "markdown",
      "metadata": {
        "id": "view-in-github",
        "colab_type": "text"
      },
      "source": [
        "<a href=\"https://colab.research.google.com/github/Venkateshcn/Python_Assignment/blob/main/module2assgnmt2_forPartB.ipynb\" target=\"_parent\"><img src=\"https://colab.research.google.com/assets/colab-badge.svg\" alt=\"Open In Colab\"/></a>"
      ]
    },
    {
      "cell_type": "code",
      "execution_count": 1,
      "metadata": {
        "colab": {
          "base_uri": "https://localhost:8080/"
        },
        "id": "Gei5p6rEUvVb",
        "outputId": "38670627-7390-4b3d-8de4-6580c2eb8edf"
      },
      "outputs": [
        {
          "output_type": "stream",
          "name": "stdout",
          "text": [
            "10\n",
            "1\n",
            "5.5\n"
          ]
        }
      ],
      "source": [
        "#Module2pgm2Solution 2\n",
        "\n",
        "L=[1,2,3,4,5,6,7,8,9,10]\n",
        "\n",
        "maximum=L[0]\n",
        "\n",
        "minimum=L[0]\n",
        "\n",
        "total=0\n",
        "\n",
        "count=0\n",
        "\n",
        "for i in L:\n",
        "\n",
        "  if i>maximum:\n",
        "\n",
        "    maximum=i\n",
        "\n",
        "  if i<minimum:\n",
        "\n",
        "    minimum=i\n",
        "\n",
        "for num in L:\n",
        "\n",
        "  total +=num\n",
        "\n",
        "  count +=1\n",
        "\n",
        "average=total/count\n",
        "\n",
        "print(maximum)\n",
        "\n",
        "print(minimum)\n",
        "\n",
        "print(average)"
      ]
    }
  ]
}