{
  "nbformat": 4,
  "nbformat_minor": 0,
  "metadata": {
    "colab": {
      "provenance": [],
      "authorship_tag": "ABX9TyNa0RJd4uppdqipiuMR/Kj1",
      "include_colab_link": true
    },
    "kernelspec": {
      "name": "python3",
      "display_name": "Python 3"
    },
    "language_info": {
      "name": "python"
    }
  },
  "cells": [
    {
      "cell_type": "markdown",
      "metadata": {
        "id": "view-in-github",
        "colab_type": "text"
      },
      "source": [
        "<a href=\"https://colab.research.google.com/github/Venkateshcn/Python_Assignment/blob/main/module2assgnmt1.ipynb\" target=\"_parent\"><img src=\"https://colab.research.google.com/assets/colab-badge.svg\" alt=\"Open In Colab\"/></a>"
      ]
    },
    {
      "cell_type": "code",
      "execution_count": 1,
      "metadata": {
        "colab": {
          "base_uri": "https://localhost:8080/"
        },
        "id": "afgg5zkxR1Lu",
        "outputId": "633c324e-860f-47c7-c328-63594ac31be0"
      },
      "outputs": [
        {
          "output_type": "stream",
          "name": "stdout",
          "text": [
            "[[1, 2], [3, 5], [1, 2, 1]]\n"
          ]
        }
      ],
      "source": [
        "#Assignment2 Solution for question 1\n",
        "\n",
        "numbers_nested=[[1,-1,2],[0,-5,3,5,-2],[1,2,1,0,-2,-3]]\n",
        "positive_numbers=[]\n",
        "for ele in numbers_nested:\n",
        "  positive_numbers.append([num for num in ele if num>0])\n",
        "print(positive_numbers)"
      ]
    }
  ]
}